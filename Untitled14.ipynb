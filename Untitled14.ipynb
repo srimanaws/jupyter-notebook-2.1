{
 "cells": [
  {
   "cell_type": "code",
   "execution_count": 2,
   "id": "c351cca4-5277-4b29-9d56-6a911f5752e5",
   "metadata": {},
   "outputs": [
    {
     "name": "stdout",
     "output_type": "stream",
     "text": [
      "x = 2\n",
      "Value of 2 + 2 is 4\n",
      "x =\n",
      "5 x = 5\n"
     ]
    }
   ],
   "source": [
    "# Lab 2 by Sriman\n",
    "# Exercise 2.1\n",
    "\n",
    "# Define variables\n",
    "x = 2\n",
    "y = 3\n",
    "\n",
    "# Print statements\n",
    "print('x =', x)\n",
    "print('Value of', x, '+', x, 'is', (x + x))\n",
    "print('x =')\n",
    "print((x + y), 'x =', (y + x))\n"
   ]
  },
  {
   "cell_type": "code",
   "execution_count": null,
   "id": "defcc506-341b-4751-95b8-315a4497b5e0",
   "metadata": {},
   "outputs": [],
   "source": []
  }
 ],
 "metadata": {
  "kernelspec": {
   "display_name": "Python 3 (ipykernel)",
   "language": "python",
   "name": "python3"
  },
  "language_info": {
   "codemirror_mode": {
    "name": "ipython",
    "version": 3
   },
   "file_extension": ".py",
   "mimetype": "text/x-python",
   "name": "python",
   "nbconvert_exporter": "python",
   "pygments_lexer": "ipython3",
   "version": "3.12.4"
  }
 },
 "nbformat": 4,
 "nbformat_minor": 5
}
